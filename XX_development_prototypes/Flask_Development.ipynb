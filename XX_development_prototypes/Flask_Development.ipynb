{
 "cells": [
  {
   "cell_type": "markdown",
   "metadata": {},
   "source": [
    "## Import Libraries"
   ]
  },
  {
   "cell_type": "code",
   "execution_count": 1,
   "metadata": {},
   "outputs": [],
   "source": [
    "import numpy as np\n",
    "\n",
    "import sqlalchemy\n",
    "from sqlalchemy.ext.automap import automap_base\n",
    "from sqlalchemy.orm import Session\n",
    "from sqlalchemy import create_engine, func\n",
    "\n",
    "from flask import Flask, jsonify"
   ]
  },
  {
   "cell_type": "markdown",
   "metadata": {},
   "source": [
    "## Database Setup"
   ]
  },
  {
   "cell_type": "code",
   "execution_count": 2,
   "metadata": {},
   "outputs": [],
   "source": [
    "rds_connection_string = \"postgres:postgres@localhost:5432/project_2_db\"\n",
    "engine = create_engine(f'postgresql://{rds_connection_string}')\n",
    "\n",
    "# reflect an existing database into a new model\n",
    "Base = automap_base()\n",
    "# reflect the tables\n",
    "Base.prepare(engine, reflect=True)"
   ]
  },
  {
   "cell_type": "code",
   "execution_count": 3,
   "metadata": {},
   "outputs": [],
   "source": [
    "# Save reference to the table\n",
    "superfund_sites = Base.classes.superfund_analysis_table"
   ]
  },
  {
   "cell_type": "code",
   "execution_count": 4,
   "metadata": {},
   "outputs": [],
   "source": [
    "# Create a database session object\n",
    "session = Session(engine)"
   ]
  },
  {
   "cell_type": "markdown",
   "metadata": {},
   "source": [
    "## Flask Setup"
   ]
  },
  {
   "cell_type": "code",
   "execution_count": 5,
   "metadata": {},
   "outputs": [],
   "source": [
    "app = Flask(__name__)"
   ]
  },
  {
   "cell_type": "markdown",
   "metadata": {},
   "source": [
    "## Flask Routes"
   ]
  },
  {
   "cell_type": "code",
   "execution_count": 6,
   "metadata": {},
   "outputs": [],
   "source": [
    "@app.route(\"/\")\n",
    "def welcome():\n",
    "    \"\"\"List all available api routes.\"\"\"\n",
    "    return (\n",
    "        f\"Available Routes:<br/>\"\n",
    "        f\"/api/v1.0/all_data<br/>\"\n",
    "        f\"/api/v1.0/state_list\"\n",
    "    )"
   ]
  },
  {
   "cell_type": "code",
   "execution_count": 10,
   "metadata": {},
   "outputs": [],
   "source": [
    "@app.route(\"/api/v1.0/state_list\")\n",
    "def state_list():\n",
    "    # Create our session (link) from Python to the DB\n",
    "    session = Session(engine)\n",
    "    \n",
    "    \"\"\"Return a list of state names\"\"\"\n",
    "    results = session.query(superfund_sites.state_name).distinct().order_by(superfund_sites.state_name).all()\n",
    "    \n",
    "    \"\"\"Revise first entry for readability\"\"\"\n",
    "    results[0] = \"Not a State\"\n",
    "    \n",
    "    return jsonify(results)"
   ]
  },
  {
   "cell_type": "code",
   "execution_count": 7,
   "metadata": {},
   "outputs": [],
   "source": [
    "@app.route(\"/api/v1.0/all_data\")\n",
    "def all_data():\n",
    "    # Create our session (link) from Python to the DB\n",
    "    session = Session(engine)\n",
    "\n",
    "    \"\"\"Return a list of all site data\"\"\"\n",
    "    # Query all site data\n",
    "    results = session.query(superfund_sites.id, superfund_sites.address,\\\n",
    "                            superfund_sites.city, superfund_sites.latitude,\\\n",
    "                            superfund_sites.longitude, superfund_sites.site_score,\\\n",
    "                            superfund_sites.state_name, superfund_sites.county_name,\\\n",
    "                            superfund_sites.tract, superfund_sites.block_group,\\\n",
    "                            superfund_sites.tot_population_cen_2010, superfund_sites.hispanic_cen_2010,\\\n",
    "                            superfund_sites.nh_blk_alone_cen_2010, superfund_sites.nh_aian_alone_cen_2010,\\\n",
    "                            superfund_sites.nh_asian_alone_cen_2010, superfund_sites.nh_nhopi_alone_cen_2010,\\\n",
    "                            superfund_sites.nh_sor_alone_cen_2010, superfund_sites.college_acs_09_13,\\\n",
    "                            superfund_sites.no_health_ins_acs_09_13, superfund_sites.med_hhd_inc_bg_acs_09_13,\\\n",
    "                            superfund_sites.aggregate_hh_inc_acs_09_13, superfund_sites.tot_vacant_units_cen_2010,\\\n",
    "                            superfund_sites.renter_occp_hu_cen_2010, superfund_sites.owner_occp_hu_cen_2010,\\\n",
    "                            superfund_sites.no_plumb_acs_09_13, superfund_sites.med_house_value_bg_acs_09_13,\\\n",
    "                            superfund_sites.pct_hispanic_cen_2010, superfund_sites.pct_nh_blk_alone_cen_2010,\\\n",
    "                            superfund_sites.pct_nh_aian_alone_cen_2010, superfund_sites.pct_nh_asian_alone_cen_2010,\\\n",
    "                            superfund_sites.pct_nh_nhopi_alone_cen_2010, superfund_sites.pct_nh_sor_alone_cen_2010,\\\n",
    "                            superfund_sites.pct_not_hs_grad_acs_09_13, superfund_sites.pct_no_health_ins_acs_09_13,\\\n",
    "                            superfund_sites.pct_vacant_units_cen_2010, superfund_sites.pct_renter_occp_hu_cen_2010,\\\n",
    "                            superfund_sites.pct_owner_occp_hu_cen_2010, superfund_sites.pct_no_plumb_acs_09_13,\\\n",
    "                            superfund_sites.pct_poc).all()\n",
    "\n",
    "    session.close()\n",
    "\n",
    "    # Create a dictionary from the row data and append to a list of site data\n",
    "    site_data = []\n",
    "    for id, address, city, latitude, longitude, site_score, state_name, county_name, tract, block_group,\\\n",
    "        tot_population_cen_2010,hispanic_cen_2010, nh_blk_alone_cen_2010, nh_aian_alone_cen_2010,\\\n",
    "        nh_asian_alone_cen_2010, nh_nhopi_alone_cen_2010, nh_sor_alone_cen_2010, college_acs_09_13,\\\n",
    "        no_health_ins_acs_09_13, med_hhd_inc_bg_acs_09_13, aggregate_hh_inc_acs_09_13, tot_vacant_units_cen_2010,\\\n",
    "        renter_occp_hu_cen_2010, owner_occp_hu_cen_2010, no_plumb_acs_09_13, med_house_value_bg_acs_09_13,\\\n",
    "        pct_hispanic_cen_2010, pct_nh_blk_alone_cen_2010, pct_nh_aian_alone_cen_2010, pct_nh_asian_alone_cen_2010,\\\n",
    "        pct_nh_nhopi_alone_cen_2010, pct_nh_sor_alone_cen_2010, pct_not_hs_grad_acs_09_13, pct_no_health_ins_acs_09_13,\\\n",
    "        pct_vacant_units_cen_2010, pct_renter_occp_hu_cen_2010, pct_owner_occp_hu_cen_2010, pct_no_plumb_acs_09_13,\\\n",
    "        pct_poc in results:\n",
    "        site_data_dict = {}\n",
    "        site_data_dict[\"id\"] = id\n",
    "        site_data_dict[\"address\"] = address\n",
    "        site_data_dict[\"city\"] = city\n",
    "        site_data_dict[\"latitude\"] = latitude\n",
    "        site_data_dict[\"longitude\"] = longitude\n",
    "        site_data_dict[\"site_score\"] = site_score\n",
    "        site_data_dict[\"state_name\"] = state_name\n",
    "        site_data_dict[\"county_name\"] = county_name\n",
    "        site_data_dict[\"tract\"] = tract\n",
    "        site_data_dict[\"block_group\"] = block_group\n",
    "        site_data_dict[\"tot_population_cen_2010\"] = tot_population_cen_2010\n",
    "        site_data_dict[\"hispanic_cen_2010\"] = hispanic_cen_2010\n",
    "        site_data_dict[\"nh_blk_alone_cen_2010\"] = nh_blk_alone_cen_2010\n",
    "        site_data_dict[\"nh_aian_alone_cen_2010\"] = nh_aian_alone_cen_2010\n",
    "        site_data_dict[\"nh_asian_alone_cen_2010\"] = nh_asian_alone_cen_2010\n",
    "        site_data_dict[\"nh_nhopi_alone_cen_2010\"] = nh_nhopi_alone_cen_2010\n",
    "        site_data_dict[\"nh_sor_alone_cen_2010\"] = nh_sor_alone_cen_2010\n",
    "        site_data_dict[\"college_acs_09_13\"] = college_acs_09_13\n",
    "        site_data_dict[\"no_health_ins_acs_09_13\"] = no_health_ins_acs_09_13\n",
    "        site_data_dict[\"med_hhd_inc_bg_acs_09_13\"] = med_hhd_inc_bg_acs_09_13\n",
    "        site_data_dict[\"aggregate_hh_inc_acs_09_13\"] = aggregate_hh_inc_acs_09_13\n",
    "        site_data_dict[\"tot_vacant_units_cen_2010\"] = tot_vacant_units_cen_2010\n",
    "        site_data_dict[\"renter_occp_hu_cen_2010\"] = renter_occp_hu_cen_2010\n",
    "        site_data_dict[\"owner_occp_hu_cen_2010\"] = owner_occp_hu_cen_2010\n",
    "        site_data_dict[\"no_plumb_acs_09_13\"] = no_plumb_acs_09_13\n",
    "        site_data_dict[\"med_house_value_bg_acs_09_13\"] = med_house_value_bg_acs_09_13\n",
    "        site_data_dict[\"pct_hispanic_cen_2010\"] = pct_hispanic_cen_2010\n",
    "        site_data_dict[\"pct_nh_blk_alone_cen_2010\"] = pct_nh_blk_alone_cen_2010\n",
    "        site_data_dict[\"pct_nh_aian_alone_cen_2010\"] = pct_nh_aian_alone_cen_2010\n",
    "        site_data_dict[\"pct_nh_asian_alone_cen_2010\"] = pct_nh_asian_alone_cen_2010\n",
    "        site_data_dict[\"pct_nh_nhopi_alone_cen_2010\"] = pct_nh_nhopi_alone_cen_2010\n",
    "        site_data_dict[\"pct_nh_sor_alone_cen_2010\"] = pct_nh_sor_alone_cen_2010\n",
    "        site_data_dict[\"pct_not_hs_grad_acs_09_13\"] = pct_not_hs_grad_acs_09_13\n",
    "        site_data_dict[\"pct_no_health_ins_acs_09_13\"] = pct_no_health_ins_acs_09_13\n",
    "        site_data_dict[\"pct_vacant_units_cen_2010\"] = pct_vacant_units_cen_2010\n",
    "        site_data_dict[\"pct_renter_occp_hu_cen_2010\"] = pct_renter_occp_hu_cen_2010\n",
    "        site_data_dict[\"pct_owner_occp_hu_cen_2010\"] = pct_owner_occp_hu_cen_2010\n",
    "        site_data_dict[\"pct_no_plumb_acs_09_13\"] = pct_no_plumb_acs_09_13\n",
    "        site_data_dict[\"pct_poc\"] = pct_poc\n",
    "        site_data.append(site_data_dict)\n",
    "\n",
    "    return jsonify(site_data)"
   ]
  },
  {
   "cell_type": "code",
   "execution_count": 8,
   "metadata": {},
   "outputs": [
    {
     "name": "stdout",
     "output_type": "stream",
     "text": [
      " * Serving Flask app \"__main__\" (lazy loading)\n",
      " * Environment: production\n",
      "   WARNING: This is a development server. Do not use it in a production deployment.\n",
      "   Use a production WSGI server instead.\n",
      " * Debug mode: on\n"
     ]
    },
    {
     "name": "stderr",
     "output_type": "stream",
     "text": [
      " * Restarting with windowsapi reloader\n"
     ]
    },
    {
     "ename": "SystemExit",
     "evalue": "1",
     "output_type": "error",
     "traceback": [
      "An exception has occurred, use %tb to see the full traceback.\n",
      "\u001b[1;31mSystemExit\u001b[0m\u001b[1;31m:\u001b[0m 1\n"
     ]
    },
    {
     "name": "stderr",
     "output_type": "stream",
     "text": [
      "C:\\Users\\jackc\\anaconda3\\envs\\PythonData\\lib\\site-packages\\IPython\\core\\interactiveshell.py:3339: UserWarning: To exit: use 'exit', 'quit', or Ctrl-D.\n",
      "  warn(\"To exit: use 'exit', 'quit', or Ctrl-D.\", stacklevel=1)\n"
     ]
    }
   ],
   "source": [
    "if __name__ == '__main__':\n",
    "    app.run(debug=True)"
   ]
  },
  {
   "cell_type": "code",
   "execution_count": null,
   "metadata": {},
   "outputs": [],
   "source": []
  }
 ],
 "metadata": {
  "kernelspec": {
   "display_name": "Python 3",
   "language": "python",
   "name": "python3"
  },
  "language_info": {
   "codemirror_mode": {
    "name": "ipython",
    "version": 3
   },
   "file_extension": ".py",
   "mimetype": "text/x-python",
   "name": "python",
   "nbconvert_exporter": "python",
   "pygments_lexer": "ipython3",
   "version": "3.7.7"
  }
 },
 "nbformat": 4,
 "nbformat_minor": 4
}
